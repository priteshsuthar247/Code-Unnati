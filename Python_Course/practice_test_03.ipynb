{
 "cells": [
  {
   "cell_type": "markdown",
   "id": "7e477a55-e476-4783-9b0c-dbe85932bd70",
   "metadata": {},
   "source": [
    "# Question 3\n",
    "<body>Some items in the grocery store have discounts.</body>\n",
    "<ul>\n",
    "    <li>Write a Python function that calculates the discounted bill amount by reducing the price of items with a discount of 10%.</li>\n",
    "    <li>The function should take the original price list and a list of items eligible for the discount, and then return the discounted to the user.</li>\n",
    "</ul>"
   ]
  },
  {
   "cell_type": "code",
   "execution_count": 50,
   "id": "5dd8a8a1-dc43-4cbe-bbb4-77ee52db2b4e",
   "metadata": {},
   "outputs": [
    {
     "name": "stdout",
     "output_type": "stream",
     "text": [
      "----------------------------------\n",
      "| Apple \t\t | 10.0  |\n",
      "----------------------------------\n",
      "| Banana \t\t | 20.0  |\n",
      "----------------------------------\n",
      "| Cherry \t\t | 30.0  |\n",
      "----------------------------------\n",
      "| Pineapple \t\t | 40.0  |\n",
      "----------------------------------\n",
      "| Total \t\t | 100.0 |\n",
      "----------------------------------\n",
      "| Discount \t\t | 10.0% |\n",
      "----------------------------------\n",
      "| Discounted Total \t | 72.0  |\n"
     ]
    }
   ],
   "source": [
    "l1 = [\"Apple\", \"Banana\", \"Cherry\", \"Pineapple\"]\n",
    "l2 = [10,20,30,40]\n",
    "l3 = [\"yes\", \"no\", \"yes\", \"yes\"]\n",
    "\n",
    "def check_discount(i):\n",
    "    if (l3[i] == \"yes\"):\n",
    "        discount_available = True\n",
    "        return discount_available\n",
    "    else:\n",
    "        discount_available = False\n",
    "        return discount_available\n",
    "\n",
    "def discounted_total():\n",
    "    final_amt = 0\n",
    "    for i in range(len(l1)):\n",
    "        if (check_discount(i) == True):\n",
    "            price = l2[i] - (l2[i]*.10)\n",
    "            final_amt = final_amt + price\n",
    "    return final_amt\n",
    "\n",
    "def total():\n",
    "    prize = sum(l2)\n",
    "    return prize\n",
    "\n",
    "def print_bill():\n",
    "    for i in range(len(l1)):\n",
    "        print(\"----------------------------------\")\n",
    "        print(f\"| {l1[i]} \\t\\t | {float (l2[i])}  |\")\n",
    "    print(\"----------------------------------\")\n",
    "    print(f\"| Total \\t\\t | {float(total())} |\")\n",
    "    print(\"----------------------------------\")\n",
    "    print(f\"| Discount \\t\\t | 10.0% |\")\n",
    "    print(\"----------------------------------\")\n",
    "    print(f\"| Discounted Total \\t | {discounted_total()}  |\")\n",
    "    \n",
    "print_bill()"
   ]
  }
 ],
 "metadata": {
  "kernelspec": {
   "display_name": "Python 3 (ipykernel)",
   "language": "python",
   "name": "python3"
  },
  "language_info": {
   "codemirror_mode": {
    "name": "ipython",
    "version": 3
   },
   "file_extension": ".py",
   "mimetype": "text/x-python",
   "name": "python",
   "nbconvert_exporter": "python",
   "pygments_lexer": "ipython3",
   "version": "3.12.4"
  }
 },
 "nbformat": 4,
 "nbformat_minor": 5
}
