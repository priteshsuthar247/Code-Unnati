{
 "cells": [
  {
   "cell_type": "markdown",
   "metadata": {},
   "source": [
    "# Question 1\n",
    "1. Create an empty list called fruits_list.\n",
    "2. Add \"apple\", \"banana\", \"orange\", \"grape\", and \"mango\" to the fruits_list.\n",
    "3. Print the first, last, and second & third fruits in the list using slicing.\n",
    "4. Print the number of fruits in the list.\n",
    "5. Replace the third fruit with \"pear\" in the list.\n",
    "6. Check if \"apple\" is present in the fruits_list and print the result.\n",
    "7. Remove \"banana\" and the last fruit from the list.\n",
    "8. Create another list additional_fruits with \"watermelon\" and \"kiwi\", then concatenate it with fruits_list.\n",
    "9. Sort the fruits_list in alphabetical order.\n",
    "10. Count the number of times \"kiwi\" appears in the fruits_list."
   ]
  },
  {
   "cell_type": "code",
   "execution_count": 4,
   "metadata": {},
   "outputs": [
    {
     "name": "stdout",
     "output_type": "stream",
     "text": [
      "First element of the list is: apple\n",
      "Last element of the list is: mango\n",
      "Second & Third element of the list is: ['banana', 'orange']\n",
      "Number of fruits in the list are: 5\n",
      "Replacing the third fruit with pear.\n",
      "['apple', 'banana', 'pear', 'grape', 'mango']\n",
      "Is apple present in the list: True\n",
      "Removing banana and last element from the list\n",
      "['apple', 'pear', 'grape']\n",
      "Original list after concatnation: ['apple', 'pear', 'grape', 'watermelon', 'kiwi']\n",
      "Sorting the fruits_list.\n",
      "['apple', 'grape', 'kiwi', 'pear', 'watermelon']\n",
      "Number of times kiwi appear in list: 1\n"
     ]
    }
   ],
   "source": [
    "fruits_list = []\n",
    "fruits_list = [\"apple\" , \"banana\" , \"orange\" , \"grape\" , \"mango\"]\n",
    "print(f\"First element of the list is: {fruits_list[0]}\")\n",
    "print(f\"Last element of the list is: {fruits_list[4]}\")\n",
    "print(f\"Second & Third element of the list is: {fruits_list[1:3]}\")\n",
    "print(f\"Number of fruits in the list are: {len(fruits_list)}\")\n",
    "print(\"Replacing the third fruit with pear.\")\n",
    "fruits_list[2] = \"pear\"\n",
    "print(fruits_list)\n",
    "print(f\"Is apple present in the list: {\"apple\" in fruits_list}\")\n",
    "print(f\"Removing banana and last element from the list\")\n",
    "fruits_list.pop(1)\n",
    "fruits_list.pop(-1)\n",
    "print(fruits_list)\n",
    "additional_fruits = [\"watermelon\" , \"kiwi\"]\n",
    "fruits_list.extend(additional_fruits)\n",
    "print(f\"Original list after concatnation: {fruits_list}\")\n",
    "print(\"Sorting the fruits_list.\")\n",
    "fruits_list.sort()\n",
    "print(fruits_list)\n",
    "print(f\"Number of times kiwi appear in list: {fruits_list.count(\"kiwi\")}\")"
   ]
  }
 ],
 "metadata": {
  "kernelspec": {
   "display_name": "Python 3 (ipykernel)",
   "language": "python",
   "name": "python3"
  },
  "language_info": {
   "codemirror_mode": {
    "name": "ipython",
    "version": 3
   },
   "file_extension": ".py",
   "mimetype": "text/x-python",
   "name": "python",
   "nbconvert_exporter": "python",
   "pygments_lexer": "ipython3",
   "version": "3.12.4"
  }
 },
 "nbformat": 4,
 "nbformat_minor": 2
}
