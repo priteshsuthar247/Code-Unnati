{
 "cells": [
  {
   "cell_type": "markdown",
   "metadata": {},
   "source": [
    "# Introduction to Python Programming"
   ]
  },
  {
   "cell_type": "code",
   "execution_count": 1,
   "metadata": {},
   "outputs": [
    {
     "name": "stdout",
     "output_type": "stream",
     "text": [
      "Hello World\n"
     ]
    }
   ],
   "source": [
    "print(\"Hello World\")"
   ]
  },
  {
   "cell_type": "code",
   "execution_count": 4,
   "metadata": {},
   "outputs": [
    {
     "name": "stdout",
     "output_type": "stream",
     "text": [
      "Diamond'a De Naal Toll Da\n",
      "Jinna Tera Bhaar Goriye\n",
      "Gabru Ta Vairi Nu Vi Mitha Bolda\n",
      "Ni Tu Ta Fer Jatt Da Pyaar Goriye\n",
      "Dekh Bollywood Vich Jinne Khan Ne\n",
      "Ohna Vich Behnda Sardar Goriye\n",
      "Gabru Ta Vairi Naal Vi Mitha Bolda\n",
      "Ni Tu Ta Fer Jatt Da Pyar Goriye\n"
     ]
    }
   ],
   "source": [
    "var1 =\"Diamond'a De Naal Toll Da\"\n",
    "var2 = \"Jinna Tera Bhaar Goriye\"\n",
    "var3 = \"Gabru Ta Vairi Nu Vi Mitha Bolda\"\n",
    "var4 = \"Ni Tu Ta Fer Jatt Da Pyaar Goriye\"\n",
    "var5 = \"Dekh Bollywood Vich Jinne Khan Ne\"\n",
    "var6 = \"Ohna Vich Behnda Sardar Goriye\"\n",
    "var7 = \"Gabru Ta Vairi Naal Vi Mitha Bolda\"\n",
    "var8 = \"Ni Tu Ta Fer Jatt Da Pyar Goriye\"\n",
    "\n",
    "print(var1)\n",
    "print(var2)\n",
    "print(var3)\n",
    "print(var4)\n",
    "print(var5)\n",
    "print(var6)\n",
    "print(var7)\n",
    "print(var8)"
   ]
  },
  {
   "cell_type": "code",
   "execution_count": 19,
   "metadata": {},
   "outputs": [
    {
     "name": "stdout",
     "output_type": "stream",
     "text": [
      "X:  140730663543472\n",
      "Y:  140730663543472\n",
      "a:  140730663543472\n",
      "b:  140730663543472\n",
      "c:  140730663543472\n"
     ]
    }
   ],
   "source": [
    "x=10\n",
    "y=10\n",
    "a=10\n",
    "b=10\n",
    "c=10\n",
    "print(\"x: \",id(x))\n",
    "print(\"y: \",id(y))\n",
    "print(\"a: \",id(a))\n",
    "print(\"b: \",id(b))\n",
    "print(\"c: \",id(c))"
   ]
  },
  {
   "cell_type": "code",
   "execution_count": 20,
   "metadata": {},
   "outputs": [
    {
     "name": "stdout",
     "output_type": "stream",
     "text": [
      "10\n"
     ]
    }
   ],
   "source": [
    "def test_1():\n",
    "    a=10\n",
    "    print(a)\n",
    "    return\n",
    "test_1()"
   ]
  },
  {
   "cell_type": "code",
   "execution_count": 24,
   "metadata": {},
   "outputs": [
    {
     "name": "stdout",
     "output_type": "stream",
     "text": [
      "hello\n",
      "200\n"
     ]
    }
   ],
   "source": [
    "a=\"hello\"\n",
    "def test_1():\n",
    "    a=20\n",
    "    b=10\n",
    "    print(a*b)\n",
    "    return\n",
    "print(a)\n",
    "test_1()"
   ]
  },
  {
   "cell_type": "code",
   "execution_count": 29,
   "metadata": {},
   "outputs": [
    {
     "name": "stdout",
     "output_type": "stream",
     "text": [
      "Ae Kya Bolti Tu\n",
      "<class 'str'>\n"
     ]
    }
   ],
   "source": [
    "a,b,c,d = \"Ae\",\"Kya\",\"Bolti\",\"Tu\"\n",
    "print(a,b,c,d)\n",
    "print(type(a))"
   ]
  },
  {
   "cell_type": "code",
   "execution_count": 30,
   "metadata": {},
   "outputs": [
    {
     "name": "stdout",
     "output_type": "stream",
     "text": [
      "1\n"
     ]
    }
   ],
   "source": [
    "x=5\n",
    "y=3\n",
    "print(x//y)"
   ]
  },
  {
   "cell_type": "code",
   "execution_count": 35,
   "metadata": {},
   "outputs": [
    {
     "name": "stdout",
     "output_type": "stream",
     "text": [
      "Enter val for x:hello\n",
      "hello\n",
      "<class 'str'>\n"
     ]
    }
   ],
   "source": [
    "x = str(input(\"Enter val for x:\"))\n",
    "print(x)\n",
    "print(type(x))"
   ]
  },
  {
   "cell_type": "markdown",
   "metadata": {},
   "source": [
    "# Working With Strings"
   ]
  },
  {
   "cell_type": "code",
   "execution_count": 7,
   "metadata": {},
   "outputs": [
    {
     "name": "stdout",
     "output_type": "stream",
     "text": [
      "      Diamond'a De Naal Toll Da      \n",
      "<class 'str'>\n",
      "Converting the case of the string:       diamond'a de naal toll da      \n",
      "Converting the case of the string:       DIAMOND'A DE NAAL TOLL DA      \n",
      "Converting the case of the string:       Diamond'A De Naal Toll Da      \n",
      "Removing Blank Spaces: Diamond'a De Naal Toll Da\n",
      "Slicing the string results in:       Diam\n"
     ]
    }
   ],
   "source": [
    "str1 = \"      Diamond'a De Naal Toll Da      \"\n",
    "print(str1)\n",
    "print(type(str1))\n",
    "print(f\"Converting the case of the string: {str1.lower()}\")\n",
    "print(f\"Converting the case of the string: {str1.upper()}\")\n",
    "print(f\"Converting the case of the string: {str1.title()}\")\n",
    "print(f\"Removing Blank Spaces: {str1.strip()}\")\n",
    "str2=str1[0:10]\n",
    "print(f\"Slicing the string results in: {str2}\")"
   ]
  },
  {
   "cell_type": "code",
   "execution_count": 14,
   "metadata": {},
   "outputs": [
    {
     "name": "stdout",
     "output_type": "stream",
     "text": [
      "Hello user, This is a program of string formatting\n",
      "Hello string, This is a program of user formatting\n",
      "Hello program, This is a user of string formatting\n",
      "      Diamond'a De Naal Toll Da       Hello user, This is a program of string formatting\n"
     ]
    }
   ],
   "source": [
    "str3 = \"Hello {}, This is a {} of {} formatting\".format(\"user\",\"program\",\"string\")\n",
    "print(str3)\n",
    "str4 = \"Hello {2}, This is a {1} of {0} formatting\".format(\"user\",\"program\",\"string\")\n",
    "print(str4)\n",
    "str5 = \"Hello {s}, This is a {a} of {d} formatting\".format(a=\"user\",s=\"program\",d=\"string\")\n",
    "print(str5)\n",
    "print(f\"{str1} {str3}\")"
   ]
  },
  {
   "cell_type": "code",
   "execution_count": 22,
   "metadata": {},
   "outputs": [
    {
     "name": "stdout",
     "output_type": "stream",
     "text": [
      "CA\n"
     ]
    }
   ],
   "source": [
    "str6 =\"FACE\"\n",
    "print(str6[-2:-4:-1])"
   ]
  },
  {
   "cell_type": "markdown",
   "metadata": {},
   "source": [
    "# Working With Lists"
   ]
  },
  {
   "cell_type": "code",
   "execution_count": 51,
   "metadata": {},
   "outputs": [
    {
     "name": "stdout",
     "output_type": "stream",
     "text": [
      "['Kya', 38, 'Bolti', 452.45, 'Public']\n",
      "y\n",
      "itloB\n",
      "Deleting element on 0th index\n",
      "[38, 'Bolti', 452.45, 'Public']\n",
      "[38, 'Bolti', 452.45, 'Public', 'hello', 'Guys', 'Chai', 'Peelo']\n",
      "[38, 'Bolti', 452.45, 'Public', 'hello', 0, 'Guys', 'Chai', 'Peelo']\n",
      "[38, 'Bolti', 452.45, 'Public', 'hello', 0, 'Guys', 'Chai']\n",
      "[38, 'Bolti', 'hello', 452.45, 'Public', 'hello', 0, 'Guys', 'Chai']\n",
      "[38, 'Bolti', 452.45, 'Public', 'hello', 0, 'Guys', 'Chai']\n",
      "['Chai', 'Guys', 'Peelo', 'hello']\n",
      "<class 'list'>\n"
     ]
    }
   ],
   "source": [
    "l1 = [\"Kya\", 38, \"Bolti\", 452.45, \"Public\"]\n",
    "print(l1)\n",
    "print(l1[0][1:2])\n",
    "print(l1[2][::-1])\n",
    "print(\"Deleting element on 0th index\")\n",
    "del l1[0]\n",
    "print(l1)\n",
    "l2 = [\"hello\", \"Guys\", \"Chai\", \"Peelo\"]\n",
    "l1 = l1+l2\n",
    "print(l1)\n",
    "l1.insert(5, 0)\n",
    "print(l1)\n",
    "del l1[-1]\n",
    "print(l1)\n",
    "l1.insert(2, \"hello\")\n",
    "print(l1)\n",
    "l1.remove(\"hello\")\n",
    "print(l1)\n",
    "l2.sort()\n",
    "print(l2)\n",
    "str7 = \"Deleting element on 0th index\"\n",
    "l3 = str7.split()\n",
    "print(type(l3))"
   ]
  },
  {
   "cell_type": "markdown",
   "metadata": {},
   "source": [
    "# Working With Tuples"
   ]
  },
  {
   "cell_type": "markdown",
   "metadata": {},
   "source": [
    "t1 = (\"Are\", \"Alive\", \"?\")\n",
    "print(t1)\n",
    "print(type(t1))\n",
    "t1[0][0:1]\n",
    "print(t1[0:1])\n",
    "t2 = (1, 2, 3, 4, 5)\n",
    "t2=t2*2\n",
    "count = t2.count(5)\n",
    "print(count)\n",
    "index = t2.index(5)\n",
    "print(index)"
   ]
  },
  {
   "cell_type": "markdown",
   "metadata": {},
   "source": [
    "# Working With Dictionay"
   ]
  },
  {
   "cell_type": "code",
   "execution_count": 20,
   "metadata": {},
   "outputs": [
    {
     "name": "stdout",
     "output_type": "stream",
     "text": [
      "{'Name': 'Charlie', 'Age': 35, 'City': 'Los Angeles'}\n",
      "<class 'dict'>\n",
      "Charlie\n",
      "dict_keys(['Name', 'Age', 'City'])\n",
      "dict_items([('Name', 'Charlie'), ('Age', 35), ('City', 'Los Angeles')])\n",
      "Mr. Vercetti\n",
      "{'Name': 'Mr. Vercetti', 'City': 'Los Angeles'}\n",
      "<class 'list'>\n",
      "['Name', 'City']\n"
     ]
    }
   ],
   "source": [
    "d1 = {'Name': 'Charlie',\n",
    "               'Age' : 35,\n",
    "               'City': 'Los Angeles'\n",
    "        } \n",
    "print(d1)\n",
    "print(type(d1))\n",
    "print(d1['Name'])\n",
    "print(d1.keys())\n",
    "print(d1.items())\n",
    "d1.update({'Name' : \"Mr. Vercetti\"})\n",
    "print(d1['Name'])\n",
    "d1.pop('Age')\n",
    "print(d1)\n",
    "d1 = list(d1)\n",
    "print(type(d1))\n",
    "print(d1)"
   ]
  },
  {
   "cell_type": "markdown",
   "metadata": {},
   "source": [
    "# Working With Sets"
   ]
  },
  {
   "cell_type": "code",
   "execution_count": 111,
   "metadata": {},
   "outputs": [
    {
     "name": "stdout",
     "output_type": "stream",
     "text": [
      "{'Apple', 'Asus', 'ASROCK', 'MSI'}\n",
      "{'Intel', 'Snapdragon', 'AMD'}\n",
      "{'Apple', 'Intel', 'ASROCK', 'Snapdragon', 'Asus', 'AMD', 'MSI'}\n"
     ]
    }
   ],
   "source": [
    "s1 = {\"Asus\", \"MSI\", \"ASROCK\", \"Asus\", \"Apple\"}\n",
    "print(s1)\n",
    "s2 = {\"AMD\", \"Intel\", \"Snapdragon\"}\n",
    "print(s2)\n",
    "print(s1.union(s2))"
   ]
  },
  {
   "cell_type": "markdown",
   "metadata": {},
   "source": [
    "# Working With Built-in Funtions"
   ]
  },
  {
   "cell_type": "code",
   "execution_count": 10,
   "metadata": {},
   "outputs": [
    {
     "name": "stdout",
     "output_type": "stream",
     "text": [
      "4\n",
      "12\n",
      "[36, 241, 655, 1865]\n",
      "2797\n",
      "1865\n",
      "36\n"
     ]
    },
    {
     "data": {
      "text/plain": [
       "['__add__',\n",
       " '__class__',\n",
       " '__class_getitem__',\n",
       " '__contains__',\n",
       " '__delattr__',\n",
       " '__delitem__',\n",
       " '__dir__',\n",
       " '__doc__',\n",
       " '__eq__',\n",
       " '__format__',\n",
       " '__ge__',\n",
       " '__getattribute__',\n",
       " '__getitem__',\n",
       " '__getstate__',\n",
       " '__gt__',\n",
       " '__hash__',\n",
       " '__iadd__',\n",
       " '__imul__',\n",
       " '__init__',\n",
       " '__init_subclass__',\n",
       " '__iter__',\n",
       " '__le__',\n",
       " '__len__',\n",
       " '__lt__',\n",
       " '__mul__',\n",
       " '__ne__',\n",
       " '__new__',\n",
       " '__reduce__',\n",
       " '__reduce_ex__',\n",
       " '__repr__',\n",
       " '__reversed__',\n",
       " '__rmul__',\n",
       " '__setattr__',\n",
       " '__setitem__',\n",
       " '__sizeof__',\n",
       " '__str__',\n",
       " '__subclasshook__',\n",
       " 'append',\n",
       " 'clear',\n",
       " 'copy',\n",
       " 'count',\n",
       " 'extend',\n",
       " 'index',\n",
       " 'insert',\n",
       " 'pop',\n",
       " 'remove',\n",
       " 'reverse',\n",
       " 'sort']"
      ]
     },
     "execution_count": 10,
     "metadata": {},
     "output_type": "execute_result"
    }
   ],
   "source": [
    "s1 = {\"Asus\", \"MSI\", \"ASROCK\", \"Asus\", \"Apple\"}\n",
    "print(len(s1))\n",
    "str1 = \"150 Rs. Dega\"\n",
    "print(len(str1))\n",
    "d1 = {'Name': 'Charlie',\n",
    "               'Age' : 35,\n",
    "               'City': 'Los Angeles'\n",
    "        } \n",
    "sorted(d1)\n",
    "l1 = [1865,36,655,241]\n",
    "print(sorted(l1))\n",
    "print(sum(l1))\n",
    "print(max(l1))\n",
    "print(min(l1))\n",
    "dir(list)"
   ]
  },
  {
   "cell_type": "markdown",
   "metadata": {},
   "source": [
    "# Type Casting"
   ]
  },
  {
   "cell_type": "code",
   "execution_count": 21,
   "metadata": {},
   "outputs": [
    {
     "name": "stdout",
     "output_type": "stream",
     "text": [
      "15\n",
      "<class 'float'>\n",
      "15.0\n",
      "<class 'str'>\n",
      "15.0\n",
      "<class 'float'>\n",
      "15.68\n",
      "<class 'int'>\n",
      "15\n"
     ]
    }
   ],
   "source": [
    "n = 15\n",
    "print(n)\n",
    "n = float(n)\n",
    "print(type(n))\n",
    "print(n)\n",
    "n = str(n)\n",
    "print(type(n))\n",
    "print(n)\n",
    "f = 15.68\n",
    "print(type(f))\n",
    "print(f)\n",
    "f = int(f)\n",
    "print(type(f))\n",
    "print(f)"
   ]
  },
  {
   "cell_type": "markdown",
   "metadata": {},
   "source": [
    "# Functions"
   ]
  },
  {
   "cell_type": "code",
   "execution_count": 28,
   "metadata": {},
   "outputs": [
    {
     "name": "stdout",
     "output_type": "stream",
     "text": [
      "211\n",
      "211\n"
     ]
    }
   ],
   "source": [
    "def sub_num(n1,n2):\n",
    "    result = n1 - n2\n",
    "    return result\n",
    "print(sub_num(234,23))\n",
    "print(sub_num(n2=23,n1=234))"
   ]
  },
  {
   "cell_type": "markdown",
   "metadata": {},
   "source": [
    "# Control Statements"
   ]
  },
  {
   "cell_type": "code",
   "execution_count": 35,
   "metadata": {},
   "outputs": [
    {
     "name": "stdout",
     "output_type": "stream",
     "text": [
      "Conditional Control Structures\n",
      "Value of X,Y,Z are: 75 40 85\n",
      "75 is the largest\n",
      "\n",
      "Loop Structures\n",
      "Value of X is: 90\n",
      "90 80 70 60 50 40 30 20 \n",
      "Value of Y is: 85\n",
      "85 75 65 55 45 35 25 15 \n",
      "\n",
      "Break Statement\n",
      "Value of i is: 0\n",
      "\n",
      "Continue Statement\n",
      "0 1 2 3 4 6 7 8 9 \n",
      "\n",
      "Pass Statement\n",
      "H\n",
      "o\n",
      "i\n"
     ]
    }
   ],
   "source": [
    "import random\n",
    "def conditional_control_structures():\n",
    "    print(\"Conditional Control Structures\")\n",
    "    x = random.randrange(0,100,5)\n",
    "    y = random.randrange(0,100,5)\n",
    "    z = random.randrange(0,100,5)\n",
    "    print(\"Value of X,Y,Z are:\",x,y,z)\n",
    "    if x>y or x>z:\n",
    "        print(x,\"is the largest\")\n",
    "    elif x<y:\n",
    "        print(y,\"is the largest\")\n",
    "    else:\n",
    "        print(z,\"is the largest\")\n",
    "\n",
    "def loop_structures():\n",
    "    print(\"Loop Structures\")\n",
    "    x = random.randrange(0,100,5)\n",
    "    \n",
    "    print(\"Value of X is:\",x)\n",
    "    for i in range(x,10,-10):\n",
    "        print(i,end=\" \")\n",
    "    print(\"\")\n",
    "\n",
    "    y = random.randrange(0,100,5)\n",
    "    print(\"Value of Y is:\",y)\n",
    "    while(y>10):\n",
    "        print(y,end=\" \")\n",
    "        y-=10\n",
    "    print(\"\")\n",
    "\n",
    "def break_statement():\n",
    "    print(\"Break Statement\")\n",
    "    for i in range(0,10):\n",
    "        print(\"Value of i is:\",i)\n",
    "        break\n",
    "\n",
    "def continue_statement():\n",
    "    print(\"Continue Statement\")\n",
    "    for i in range(0,10):\n",
    "        if i==5:\n",
    "            continue\n",
    "        else:\n",
    "            print(i, end=\" \")\n",
    "    print(\"\")\n",
    "\n",
    "def pass_statement():\n",
    "    print(\"Pass Statement\")\n",
    "    str = \"Hi\"\n",
    "    for i in str:\n",
    "        if i =='i':\n",
    "            print(\"o\")\n",
    "            pass\n",
    "        print(i)\n",
    "        \n",
    "conditional_control_structures()\n",
    "print(\"\")\n",
    "loop_structures()\n",
    "print(\"\")\n",
    "break_statement()\n",
    "print(\"\")\n",
    "continue_statement()\n",
    "print(\"\")\n",
    "pass_statement()"
   ]
  }
 ],
 "metadata": {
  "kernelspec": {
   "display_name": "Python 3 (ipykernel)",
   "language": "python",
   "name": "python3"
  },
  "language_info": {
   "codemirror_mode": {
    "name": "ipython",
    "version": 3
   },
   "file_extension": ".py",
   "mimetype": "text/x-python",
   "name": "python",
   "nbconvert_exporter": "python",
   "pygments_lexer": "ipython3",
   "version": "3.12.4"
  }
 },
 "nbformat": 4,
 "nbformat_minor": 4
}
