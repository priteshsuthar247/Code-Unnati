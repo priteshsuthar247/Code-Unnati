{
 "cells": [
  {
   "cell_type": "markdown",
   "id": "7ac5dcf1-8b94-41dc-8b2e-9a9d3229e432",
   "metadata": {},
   "source": [
    "# Question 2\n",
    "<p>You are at the grocery store and have a list of items and their prices.</p>\n",
    "- Write a Python function to calculate the total bill amount for a shopping cart containing these items.\n",
    "- The function should take two lists as input: one containing the item names and another containing their corresponding prices.\n",
    "- Make sure to handle scenarios where the item prices are not given or the lists are of different lengths.</p>"
   ]
  },
  {
   "cell_type": "code",
   "execution_count": 12,
   "id": "5150055c-5c41-4aa7-a835-ee8d97de62d5",
   "metadata": {},
   "outputs": [
    {
     "name": "stdout",
     "output_type": "stream",
     "text": [
      "------------------------\n",
      "| Apple \t | 10  |\n",
      "------------------------\n",
      "| Banana \t | 20  |\n",
      "------------------------\n",
      "| Cherry \t | 30  |\n",
      "------------------------\n",
      "| Pineapple \t | 40  |\n",
      "------------------------\n",
      "| Total \t | 100 |\n"
     ]
    }
   ],
   "source": [
    "l1 = [\"Apple\", \"Banana\", \"Cherry\", \"Pineapple\"]\n",
    "l2 = [10,20,30,40]\n",
    "\n",
    "def check_size():\n",
    "    if(len(l1) != len(l2)):\n",
    "        print(\"Lists are of not the same size.\")\n",
    "\n",
    "def total():\n",
    "    prize = sum(l2)\n",
    "    return prize\n",
    "\n",
    "def print_bill():\n",
    "    for i in range(len(l1)):\n",
    "        print(\"------------------------\")\n",
    "        print(f\"| {l1[i]} \\t | {l2[i]}  |\")\n",
    "    print(\"------------------------\")\n",
    "    print(f\"| Total \\t | {total()} |\")\n",
    "\n",
    "check_size()\n",
    "print_bill()"
   ]
  }
 ],
 "metadata": {
  "kernelspec": {
   "display_name": "Python 3 (ipykernel)",
   "language": "python",
   "name": "python3"
  },
  "language_info": {
   "codemirror_mode": {
    "name": "ipython",
    "version": 3
   },
   "file_extension": ".py",
   "mimetype": "text/x-python",
   "name": "python",
   "nbconvert_exporter": "python",
   "pygments_lexer": "ipython3",
   "version": "3.12.4"
  }
 },
 "nbformat": 4,
 "nbformat_minor": 5
}
